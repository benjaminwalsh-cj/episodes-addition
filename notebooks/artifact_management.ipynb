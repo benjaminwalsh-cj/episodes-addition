{
 "cells": [
  {
   "cell_type": "code",
   "execution_count": 51,
   "metadata": {},
   "outputs": [],
   "source": [
    "import os\n",
    "import shutil\n",
    "import logging\n",
    "import pandas as pd\n",
    "import numpy as np\n",
    "import joblib\n",
    "\n",
    "logger = logging.basicConfig(level='INFO',\n",
    "                             format='[%(asctime)s] {%(pathname)s:%(lineno)d} %(levelname)s - %(message)s',\n",
    "                             datefmt='%H:%M:%S')"
   ]
  },
  {
   "cell_type": "code",
   "execution_count": 77,
   "metadata": {},
   "outputs": [
    {
     "name": "stdout",
     "output_type": "stream",
     "text": [
      "/Users/benjamin.walsh/Documents/Projects/episodes-addition/notebooks\n"
     ]
    }
   ],
   "source": [
    "print(os.getcwd())"
   ]
  },
  {
   "cell_type": "code",
   "execution_count": 78,
   "metadata": {},
   "outputs": [],
   "source": [
    "test_dir = '/Users/benjamin.walsh/Documents/Projects/episodes-addition/gastero/all_egm/'"
   ]
  },
  {
   "cell_type": "code",
   "execution_count": 7,
   "metadata": {},
   "outputs": [
    {
     "data": {
      "text/plain": [
       "2"
      ]
     },
     "execution_count": 7,
     "metadata": {},
     "output_type": "execute_result"
    }
   ],
   "source": [
    "len(os.listdir(test_dir))"
   ]
  },
  {
   "cell_type": "code",
   "execution_count": 6,
   "metadata": {},
   "outputs": [
    {
     "data": {
      "text/plain": [
       "['.DS_Store', 'results', 'joblib']"
      ]
     },
     "execution_count": 6,
     "metadata": {},
     "output_type": "execute_result"
    }
   ],
   "source": [
    "os.listdir(test_dir)"
   ]
  },
  {
   "cell_type": "code",
   "execution_count": 54,
   "metadata": {},
   "outputs": [],
   "source": [
    "def generate_index_label(path: str, run_type: str) -> str:\n",
    "    '''This function generates the index label for artifacts\n",
    "    Args:\n",
    "        path (`str`): destination path for the artifacts (run_type-level directory)\n",
    "        run_type (`str`): the episodes level the pipeline was executed with\n",
    "    Returns:\n",
    "        String label to use in indexing new artifacts\n",
    "    '''\n",
    "\n",
    "    if os.path.isdir(path) == False:\n",
    "        logger.error(\"Provded path does not exist and cannot be used in indexing.\")\n",
    "        raise ValueError\n",
    "\n",
    "    existing_indexes = []\n",
    "    for directory in os.listdir(path):\n",
    "        # Don't count anything that isn't a directory (e.g. .DS_Store)\n",
    "        if os.path.isdir(path + directory) == True:\n",
    "            existing_indexes.append(int(directory))\n",
    "\n",
    "    # Add one to the max index already in use\n",
    "    new_index = max(existing_indexes) + 1\n",
    "\n",
    "    # Define the new index label for the directory and the artifacts\n",
    "    if new_index <= 9:\n",
    "        new_label = f'{run_type}_0{new_index}'\n",
    "    else:\n",
    "        new_label = f'{run_type}_{str(new_index)}'\n",
    "\n",
    "    return new_label\n",
    "    "
   ]
  },
  {
   "cell_type": "code",
   "execution_count": 34,
   "metadata": {},
   "outputs": [],
   "source": [
    "def generate_artifact_directories(path: str, index_label: str) -> None:\n",
    "    '''Generate the directories required for pipeline artifact persistence\n",
    "    Args:\n",
    "        path (`str`): path to the run_level-type directory\n",
    "        index_label (`str`): label for the directories indicating the index (run) of the pipeline\n",
    "    Returns:\n",
    "        None\n",
    "    '''\n",
    "\n",
    "    # Establish index root directory\n",
    "    index_path = path + index_label\n",
    "    try:\n",
    "        os.mkdir(index_path)\n",
    "    except FileExistsError:\n",
    "        logger.error('Indexed directory already exists')\n",
    "    \n",
    "    logger.info('Directory successfully created.')\n"
   ]
  },
  {
   "cell_type": "code",
   "execution_count": null,
   "metadata": {},
   "outputs": [],
   "source": [
    "generate_artifact_directories(path=test_dir, index_label=generate_index_label(test_dir))"
   ]
  },
  {
   "cell_type": "code",
   "execution_count": 37,
   "metadata": {},
   "outputs": [],
   "source": [
    "def generate_artifact_dest_path(artifact_name: str, dest: str, index_label: str) -> str:\n",
    "    '''Create the destination path for a provided artifact using its corresponding index label\n",
    "    Args:\n",
    "        artifact_name (`str`): name of the artifact (e.g. its existing file name)\n",
    "        dest (`str`): destination directory of the artifact\n",
    "        index_label (`str`): index of the pipeline's run. Should be generated using the\n",
    "        `generate_index_label` function.\n",
    "    Returns:\n",
    "        String full path for the artifact as a shutil.copy dest value\n",
    "    '''\n",
    "\n",
    "    dest_path = f'{dest}{artifact_name}_{index_label}'\n",
    "\n",
    "    return dest_path"
   ]
  },
  {
   "cell_type": "code",
   "execution_count": 38,
   "metadata": {},
   "outputs": [],
   "source": [
    "def persist_artifact(src: str, dest: str) -> None:\n",
    "    '''Copy a single artifact to the persistence directory\n",
    "    Args:\n",
    "        src (`str`): Source path to the artifact\n",
    "        dest (`str`): Destination path for the copied artifact\n",
    "    Returns:\n",
    "        None\n",
    "    '''\n",
    "\n",
    "    shutil.copy(src=src, dst=dest)"
   ]
  },
  {
   "cell_type": "code",
   "execution_count": 89,
   "metadata": {},
   "outputs": [],
   "source": [
    "def persist_artifact_directory(src: str, dst: str, index_label: str) -> None:\n",
    "    '''Persist an entire existing directory of artifacts\n",
    "    Args:\n",
    "        src (`str`): path to the existing artifact directory\n",
    "        dst (`str`): path to the desired output artifact directory\n",
    "        index_label (`str`): index label for the pipeline run\n",
    "    Returns:\n",
    "        None\n",
    "    '''\n",
    "\n",
    "    # Copy the entire tree\n",
    "    try:\n",
    "        shutil.copytree(src, dst)\n",
    "    except FileExistsError:\n",
    "        # logger.error('Cannot copy directory tree. Directories already exist in destination.')\n",
    "        raise\n",
    "    \n",
    "    # Iterate through the copied files and relabel them to use the indexing scheme\n",
    "    for root, dirs, files in os.walk(dst):\n",
    "        for name in files:\n",
    "            if name != '.DS_Store':\n",
    "                name_parts = name.split('.')\n",
    "                new_name = f'{name_parts[0]}_{label}.{name_parts[1]}'\n",
    "                old_path = os.path.join(root, name)\n",
    "                new_path = os.path.join(root, new_name)\n",
    "                os.rename(old_path, new_path)"
   ]
  },
  {
   "cell_type": "markdown",
   "metadata": {},
   "source": [
    "---"
   ]
  },
  {
   "cell_type": "markdown",
   "metadata": {},
   "source": [
    "#### Generate Label"
   ]
  },
  {
   "cell_type": "code",
   "execution_count": 57,
   "metadata": {},
   "outputs": [
    {
     "data": {
      "text/plain": [
       "'all_egm_11'"
      ]
     },
     "execution_count": 57,
     "metadata": {},
     "output_type": "execute_result"
    }
   ],
   "source": [
    "label = generate_index_label(test_dir, 'all_egm')\n",
    "label"
   ]
  },
  {
   "cell_type": "markdown",
   "metadata": {},
   "source": [
    "#### Establish paths"
   ]
  },
  {
   "cell_type": "code",
   "execution_count": 70,
   "metadata": {},
   "outputs": [],
   "source": [
    "src_path = '/Users/benjamin.walsh/Documents/Projects/sandbox/personal/james/cj-provider-taxonomy/result/cardiology/multi_class/specialty/'"
   ]
  },
  {
   "cell_type": "markdown",
   "metadata": {},
   "source": [
    "#### Generate directories"
   ]
  },
  {
   "cell_type": "code",
   "execution_count": null,
   "metadata": {},
   "outputs": [],
   "source": [
    "generate_artifact_directories(test_dir, label)"
   ]
  },
  {
   "cell_type": "code",
   "execution_count": 90,
   "metadata": {},
   "outputs": [],
   "source": [
    "specialty_results_path = f'{test_dir}/{label}/specialty/'\n",
    "persist_artifact_directory(src_path, specialty_results_path, index_label=label)"
   ]
  },
  {
   "cell_type": "code",
   "execution_count": null,
   "metadata": {},
   "outputs": [],
   "source": []
  }
 ],
 "metadata": {
  "kernelspec": {
   "display_name": "Python 3.9.12 ('base')",
   "language": "python",
   "name": "python3"
  },
  "language_info": {
   "codemirror_mode": {
    "name": "ipython",
    "version": 3
   },
   "file_extension": ".py",
   "mimetype": "text/x-python",
   "name": "python",
   "nbconvert_exporter": "python",
   "pygments_lexer": "ipython3",
   "version": "3.9.12"
  },
  "orig_nbformat": 4,
  "vscode": {
   "interpreter": {
    "hash": "73edeb63486cc3f58abf326bbf1fe353a792c5ed6d86f6fcdfde081eecf3f816"
   }
  }
 },
 "nbformat": 4,
 "nbformat_minor": 2
}
